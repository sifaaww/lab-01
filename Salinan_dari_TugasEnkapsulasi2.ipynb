{
  "nbformat": 4,
  "nbformat_minor": 0,
  "metadata": {
    "colab": {
      "provenance": [],
      "include_colab_link": true
    },
    "kernelspec": {
      "name": "python3",
      "display_name": "Python 3"
    },
    "language_info": {
      "name": "python"
    }
  },
  "cells": [
    {
      "cell_type": "markdown",
      "metadata": {
        "id": "view-in-github",
        "colab_type": "text"
      },
      "source": [
        "<a href=\"https://colab.research.google.com/github/sifaaww/lab-01/blob/main/Salinan_dari_TugasEnkapsulasi2.ipynb\" target=\"_parent\"><img src=\"https://colab.research.google.com/assets/colab-badge.svg\" alt=\"Open In Colab\"/></a>"
      ]
    },
    {
      "cell_type": "markdown",
      "source": [
        "Buatlah kelas RekeningBank dengan atribut berikut:\n",
        "\n",
        "*   nama_pemilik (private)\n",
        "*   saldo (private)\n",
        "\n",
        "Berikan metode berikut:\n",
        "\n",
        "*   __init__: Menginisialisasi saldo dan nama_pemilik.\n",
        "*   set_saldo: Mengubah nilai saldo.\n",
        "*   get_saldo: Mengembalikan nilai saldo.\n",
        "*   set_nama_pemilik: Mengubah nama pemilik.\n",
        "*   get_nama_pemilik: Mengembalikan nama pemilik.\n",
        "\n",
        "\n",
        "\n",
        "\n",
        "\n",
        "\n",
        "\n",
        "\n"
      ],
      "metadata": {
        "id": "PktiI90eS6Ee"
      }
    },
    {
      "cell_type": "code",
      "source": [
        "class RekeningBank:\n",
        "    def __init__(self, nama_pemilik, saldo):\n",
        "        self.nama_pemilik = nama_pemilik\n",
        "        self.saldo = saldo\n",
        "\n",
        "    def set_saldo(self, saldo):\n",
        "        self.saldo = saldo\n",
        "\n",
        "    def get_saldo(self):\n",
        "        return self.saldo\n",
        "\n",
        "    def set_nama_pemilik(self, nama_pemilik):\n",
        "        self.nama_pemilik = nama_pemilik\n",
        "\n",
        "    def get_nama_pemilik(self):\n",
        "        return self.nama_pemilik"
      ],
      "metadata": {
        "id": "Pyj-mkyciVfk"
      },
      "execution_count": 1,
      "outputs": []
    },
    {
      "cell_type": "code",
      "source": [
        "# Pembuatan class RekeningBank\n",
        "class RekeningBank:\n",
        "    def __init__(self, nama, saldo):\n",
        "        self.nama = nama\n",
        "        self.saldo = saldo\n",
        "\n",
        "    # method untuk menambahkan saldo pada rekening\n",
        "    def tambah_saldo(self, jumlah):\n",
        "        self.saldo += jumlah\n",
        "        print(f\"Tambah saldo sebesar {jumlah} berhasil. Total saldo sekarang: {self.saldo}\")\n",
        "\n",
        "    # method untuk menarik saldo dari rekening\n",
        "    def tarik_saldo(self, jumlah):\n",
        "        if self.saldo < jumlah:\n",
        "            print(\"Maaf, saldo tidak cukup.\")\n",
        "        else:\n",
        "            self.saldo -= jumlah\n",
        "            print(f\"Tarik saldo sebesar {jumlah} berhasil. Total saldo sekarang: {self.saldo}\")\n",
        "\n",
        "# program utama\n",
        "rekening1 = RekeningBank(\"Fari\", 600000)\n",
        "print(\"Nama:\", rekening1.nama)\n",
        "print(\"Saldo awal:\", rekening1.saldo)\n",
        "\n",
        "rekening1.tambah_saldo(300000)\n",
        "rekening1.tarik_saldo(200000)\n",
        "rekening1.tarik_saldo(100000)\n",
        "rekening1.tambah_saldo(500000)\n",
        "\n",
        "rekening2 = RekeningBank(\"Artika\", 5000000)\n",
        "print(\"Nama:\", rekening2.nama)\n",
        "print(\"Saldo awal:\", rekening2.saldo)\n",
        "\n",
        "rekening2.tarik_saldo(200000)\n",
        "rekening2.tambah_saldo(800000)"
      ],
      "metadata": {
        "id": "aOwy6rfdSga2",
        "colab": {
          "base_uri": "https://localhost:8080/"
        },
        "outputId": "0773ff87-2318-4faa-e21e-4819f892c401"
      },
      "execution_count": 2,
      "outputs": [
        {
          "output_type": "stream",
          "name": "stdout",
          "text": [
            "Nama: Fari\n",
            "Saldo awal: 600000\n",
            "Tambah saldo sebesar 300000 berhasil. Total saldo sekarang: 900000\n",
            "Tarik saldo sebesar 200000 berhasil. Total saldo sekarang: 700000\n",
            "Tarik saldo sebesar 100000 berhasil. Total saldo sekarang: 600000\n",
            "Tambah saldo sebesar 500000 berhasil. Total saldo sekarang: 1100000\n",
            "Nama: Artika\n",
            "Saldo awal: 5000000\n",
            "Tarik saldo sebesar 200000 berhasil. Total saldo sekarang: 4800000\n",
            "Tambah saldo sebesar 800000 berhasil. Total saldo sekarang: 5600000\n"
          ]
        }
      ]
    }
  ]
}