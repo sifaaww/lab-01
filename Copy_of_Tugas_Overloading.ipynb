{
  "nbformat": 4,
  "nbformat_minor": 0,
  "metadata": {
    "colab": {
      "provenance": [],
      "include_colab_link": true
    },
    "kernelspec": {
      "name": "python3",
      "display_name": "Python 3"
    },
    "language_info": {
      "name": "python"
    }
  },
  "cells": [
    {
      "cell_type": "markdown",
      "metadata": {
        "id": "view-in-github",
        "colab_type": "text"
      },
      "source": [
        "<a href=\"https://colab.research.google.com/github/sifaaww/lab-01/blob/main/Copy_of_Tugas_Overloading.ipynb\" target=\"_parent\"><img src=\"https://colab.research.google.com/assets/colab-badge.svg\" alt=\"Open In Colab\"/></a>"
      ]
    },
    {
      "cell_type": "code",
      "execution_count": 3,
      "metadata": {
        "id": "cytAUNWzM1-6"
      },
      "outputs": [],
      "source": [
        "# Buat Perkalian yang memiliki Sebuah fungsi dangan nama Hitung\n",
        "class Perkalian:\n",
        "    # method hasil() dengan variasi parameter\n",
        "    def hasil(self, *args):\n",
        "        kali = 1\n",
        "        for angka in args:\n",
        "            kali *= angka\n",
        "        print(kali)"
      ]
    },
    {
      "cell_type": "code",
      "source": [
        "#Buat main program\n",
        "#Panggil fungsi Hitung untuk menghitung 2 parameter\n",
        "#Panggil fungsi Hitung untuk menghitung 3 parameter\n",
        "#Panggil fungsi Hitung untuk menghitung 4 parameter\n",
        "coba = Perkalian()\n",
        "\n",
        "coba.hasil(1, 2)\n",
        "coba.hasil(1, 2, 3)\n",
        "coba.hasil(1, 2, 3, 4, 5,)"
      ],
      "metadata": {
        "id": "W9hN-kX7PDUI",
        "colab": {
          "base_uri": "https://localhost:8080/"
        },
        "outputId": "38d6ccd9-ff1a-4520-ffc5-a8fc4e4e45fe"
      },
      "execution_count": 4,
      "outputs": [
        {
          "output_type": "stream",
          "name": "stdout",
          "text": [
            "2\n",
            "6\n",
            "120\n"
          ]
        }
      ]
    },
    {
      "cell_type": "code",
      "source": [
        "class Perkalian:\n",
        "    # method hasil() dengan variasi parameter\n",
        "    def hasil(self, *args):\n",
        "      if (len(args) <= 4):\n",
        "        kali = 1\n",
        "        for angka in args:\n",
        "            kali *= angka\n",
        "        print(kali)\n",
        "      else:\n",
        "        print(\"Maksimal 4 Argumen!!!\")"
      ],
      "metadata": {
        "id": "-vrwtOShsa6h"
      },
      "execution_count": 11,
      "outputs": []
    },
    {
      "cell_type": "code",
      "source": [
        "coba = Perkalian()\n",
        "\n",
        "coba.hasil(1, 2)\n",
        "coba.hasil(1, 2, 3)\n",
        "coba.hasil(1, 2, 3, 4)\n",
        "coba.hasil(1, 2, 3, 4, 5,)"
      ],
      "metadata": {
        "colab": {
          "base_uri": "https://localhost:8080/"
        },
        "id": "w2kRwilks08H",
        "outputId": "1bbdba33-9fb3-47dd-8a8b-e7f357bcf102"
      },
      "execution_count": 12,
      "outputs": [
        {
          "output_type": "stream",
          "name": "stdout",
          "text": [
            "2\n",
            "6\n",
            "24\n",
            "Maksimal 4 Argumen!!!\n"
          ]
        }
      ]
    }
  ]
}