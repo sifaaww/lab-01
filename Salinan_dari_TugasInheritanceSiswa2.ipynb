{
  "nbformat": 4,
  "nbformat_minor": 0,
  "metadata": {
    "colab": {
      "provenance": [],
      "include_colab_link": true
    },
    "kernelspec": {
      "name": "python3",
      "display_name": "Python 3"
    },
    "language_info": {
      "name": "python"
    }
  },
  "cells": [
    {
      "cell_type": "markdown",
      "metadata": {
        "id": "view-in-github",
        "colab_type": "text"
      },
      "source": [
        "<a href=\"https://colab.research.google.com/github/sifaaww/lab-01/blob/main/Salinan_dari_TugasInheritanceSiswa2.ipynb\" target=\"_parent\"><img src=\"https://colab.research.google.com/assets/colab-badge.svg\" alt=\"Open In Colab\"/></a>"
      ]
    },
    {
      "cell_type": "markdown",
      "source": [
        "Buatlah tiga kelas: User, Siswa, dan Guru. Class Siswa dan Guru mewarisi atribute dan fungsi dari class User. Keduanya menambahkan atribut dan fungsi tambahan sesuai dengan peran masing-masing.\n",
        "\n",
        "Output dari program ini akan menampilkan informasi seorang siswa dan seorang guru dengan menggunakan fungsi tampil_info() yang diwarisi dari class User. Untuk info user yang ditampilkan silakan ditentukan sendiri minimal ada nama dan umur.\n",
        "\n",
        "Untuk informasi khusus dari siswa dan guru silakan tentukan sendiri, minimal satu atribute tambahan yang membedakan antara siswa dan guru."
      ],
      "metadata": {
        "id": "oWYx5WDsIouf"
      }
    },
    {
      "cell_type": "code",
      "execution_count": 1,
      "metadata": {
        "id": "VQWWW4rpH9ve"
      },
      "outputs": [],
      "source": [
        "#Class User\n",
        "class Pemakai:\n",
        "  def __init__(self, nama, umur):\n",
        "    self.nama = nama\n",
        "    self.umur = umur\n",
        "\n",
        "  def tampil_info(self):\n",
        "    print(f'Nama:  {self.nama}')\n",
        "    print(f'Umur:  {self.umur}')"
      ]
    },
    {
      "cell_type": "code",
      "source": [
        "#Class Siswa\n",
        "class Siswa(Pemakai):\n",
        "  def __init__(self, nama, umur, kelas):\n",
        "    super().__init__(nama, umur)\n",
        "    self.kelas = kelas\n",
        "\n",
        "  def tampil_info(self):\n",
        "    super().tampil_info()\n",
        "    print('Kelas:',self.kelas)"
      ],
      "metadata": {
        "id": "i_iBjMciJJc5"
      },
      "execution_count": 2,
      "outputs": []
    },
    {
      "cell_type": "code",
      "source": [
        "#Class Guru\n",
        "class Guru(Pemakai):\n",
        "  def __init__(self, nama, umur, mapel):\n",
        "    super().__init__(nama, umur)\n",
        "    self.mapel = mapel\n",
        "\n",
        "  def tampil_info(self):\n",
        "    super().tampil_info()\n",
        "    print('Mapel:',self.mapel)"
      ],
      "metadata": {
        "id": "lrnlKm6sJMjp"
      },
      "execution_count": 3,
      "outputs": []
    },
    {
      "cell_type": "code",
      "source": [
        "#Program utama untuk menampilkan info\n",
        "siswa = Siswa(\"Shifa\", 16, 11)\n",
        "guru = Guru(\"sari\", 23, \"english language\")\n",
        "\n",
        "siswa.tampil_info()\n",
        "guru.tampil_info()"
      ],
      "metadata": {
        "id": "VDGIma_2JOVx",
        "colab": {
          "base_uri": "https://localhost:8080/"
        },
        "outputId": "a0fd69b1-0820-4001-f56a-cc0d3cd4b5c7"
      },
      "execution_count": 6,
      "outputs": [
        {
          "output_type": "stream",
          "name": "stdout",
          "text": [
            "Nama:  Shifa\n",
            "Umur:  16\n",
            "Kelas: 11\n",
            "Nama:  sari\n",
            "Umur:  23\n",
            "Mapel: english language\n"
          ]
        }
      ]
    }
  ]
}